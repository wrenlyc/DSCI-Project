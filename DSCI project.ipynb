{
 "cells": [
  {
   "cell_type": "markdown",
   "id": "86d10fb5-9539-49c0-aa18-424ce20e62db",
   "metadata": {},
   "source": [
    "Woah"
   ]
  },
  {
   "cell_type": "code",
   "execution_count": null,
   "id": "8fede5cc-c2e4-40ca-bc5d-2b7447f67643",
   "metadata": {},
   "outputs": [],
   "source": []
  }
 ],
 "metadata": {
  "kernelspec": {
   "display_name": "R",
   "language": "R",
   "name": "ir"
  },
  "language_info": {
   "codemirror_mode": "r",
   "file_extension": ".r",
   "mimetype": "text/x-r-source",
   "name": "R",
   "pygments_lexer": "r",
   "version": "4.3.3"
  }
 },
 "nbformat": 4,
 "nbformat_minor": 5
}
